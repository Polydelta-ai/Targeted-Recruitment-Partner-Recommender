{
 "cells": [
  {
   "cell_type": "code",
   "execution_count": null,
   "metadata": {},
   "outputs": [],
   "source": [
    "#Import necessary libraries\n",
    "import pandas as pd"
   ]
  },
  {
   "cell_type": "code",
   "execution_count": null,
   "metadata": {},
   "outputs": [],
   "source": [
    "#Load data and drop duplicates\n",
    "df = pd.read_csv(\"../data/organization_data.csv\")\n",
    "\n",
    "df.drop_duplicates(inplace = True, subset=['org_name'])"
   ]
  },
  {
   "cell_type": "code",
   "execution_count": null,
   "metadata": {},
   "outputs": [],
   "source": [
    "#Show df summary\n",
    "df.info()"
   ]
  },
  {
   "cell_type": "code",
   "execution_count": null,
   "metadata": {},
   "outputs": [],
   "source": [
    "#Drop Nans in 'bio' column\n",
    "df = df.dropna(subset=['bio'])\n",
    "df.info()"
   ]
  },
  {
   "cell_type": "code",
   "execution_count": null,
   "metadata": {},
   "outputs": [],
   "source": [
    "#Create sub-df from 'bio' and 'type' columns\n",
    "organization_features = df[['bio', 'type']]\n",
    "\n",
    "organization_features.index = df['org_name'].tolist()\n",
    "\n",
    "organization_features.head(5)"
   ]
  },
  {
   "cell_type": "code",
   "execution_count": null,
   "metadata": {},
   "outputs": [],
   "source": [
    "#Save df to CSV\n",
    "organization_features.to_csv('../features_vectors/organization_features.csv')"
   ]
  }
 ],
 "metadata": {
  "interpreter": {
   "hash": "4efb34fdd44591087287cb647f8e075132d6a6d57ecc05eaa3a80a5de4ea1f8b"
  },
  "kernelspec": {
   "display_name": "Python 3.9.9 64-bit (windows store)",
   "language": "python",
   "name": "python3"
  },
  "language_info": {
   "codemirror_mode": {
    "name": "ipython",
    "version": 3
   },
   "file_extension": ".py",
   "mimetype": "text/x-python",
   "name": "python",
   "nbconvert_exporter": "python",
   "pygments_lexer": "ipython3",
   "version": "3.9.10"
  },
  "orig_nbformat": 4
 },
 "nbformat": 4,
 "nbformat_minor": 2
}
