{
 "cells": [
  {
   "cell_type": "code",
   "execution_count": 1,
   "metadata": {},
   "outputs": [],
   "source": [
    "#Import necessary libraries\n",
    "import pandas as pd"
   ]
  },
  {
   "cell_type": "code",
   "execution_count": 2,
   "metadata": {},
   "outputs": [
    {
     "name": "stderr",
     "output_type": "stream",
     "text": [
      "C:\\Users\\James Taylor\\anaconda3\\lib\\site-packages\\IPython\\core\\interactiveshell.py:3146: DtypeWarning: Columns (14,15,22) have mixed types.Specify dtype option on import or set low_memory=False.\n",
      "  has_raised = await self.run_ast_nodes(code_ast.body, cell_name,\n"
     ]
    }
   ],
   "source": [
    "#Load data\n",
    "df = pd.read_csv(\"../data/non_profit_data.csv\")"
   ]
  },
  {
   "cell_type": "code",
   "execution_count": 13,
   "metadata": {},
   "outputs": [
    {
     "name": "stdout",
     "output_type": "stream",
     "text": [
      "<class 'pandas.core.frame.DataFrame'>\n",
      "Int64Index: 1718713 entries, 0 to 1748610\n",
      "Data columns (total 4 columns):\n",
      " #   Column     Dtype \n",
      "---  ------     ----- \n",
      " 0   EIN        int64 \n",
      " 1   NAME       object\n",
      " 2   NTEEFINAL  object\n",
      " 3   NTEE1      object\n",
      "dtypes: int64(1), object(3)\n",
      "memory usage: 65.6+ MB\n"
     ]
    }
   ],
   "source": [
    "#Drop unnessecary columns and NaNs\n",
    "non_profit_df = df.drop(['SEC_NAME', 'FRCD', 'RULEDATE', 'FIPS', 'PMSA', 'MSA_NECH', 'TAXPER', 'OUTREAS', 'ZFILER', \n",
    "'INCOME', 'ASSETS', 'LEVEL2', 'ACCPER', 'CASSETS', 'CFINSRC', 'CTAXPER', 'CTOTREV', 'RANDNUM', 'FILER', 'FNDNCD', \n",
    "'OUTNCCS', 'LEVEL4', 'NAICS', 'NTEECC', 'NTMAJ10', 'MAJGRPB', 'NTMAJ5', 'SUBSECCD', 'ADDRESS', 'CITY', 'STATE', 'ZIP5', \n",
    "'LEVEL1', 'LEVEL3', 'NTMAJ12'], axis=1)\n",
    "\n",
    "non_profit_df = non_profit_df.dropna()\n",
    "\n",
    "non_profit_df.info()"
   ]
  },
  {
   "cell_type": "code",
   "execution_count": 17,
   "metadata": {},
   "outputs": [
    {
     "data": {
      "text/plain": [
       "X    300793\n",
       "B    229633\n",
       "N    137788\n",
       "A    130901\n",
       "S    128127\n",
       "P    122597\n",
       "T    118711\n",
       "W     72944\n",
       "Y     61740\n",
       "E     49978\n",
       "O     43992\n",
       "C     37882\n",
       "L     35720\n",
       "D     34856\n",
       "J     32505\n",
       "G     30827\n",
       "M     26238\n",
       "Q     23916\n",
       "I     22693\n",
       "F     21109\n",
       "K     20637\n",
       "R     11254\n",
       "U     10870\n",
       "Z      5201\n",
       "H      5074\n",
       "V      2726\n",
       "0         1\n",
       "Name: NTEE1, dtype: int64"
      ]
     },
     "execution_count": 17,
     "metadata": {},
     "output_type": "execute_result"
    }
   ],
   "source": [
    "#Show the value counts for the 'NTEE' colummn\n",
    "non_profit_df['NTEE1'].value_counts()"
   ]
  },
  {
   "cell_type": "code",
   "execution_count": 32,
   "metadata": {},
   "outputs": [
    {
     "name": "stdout",
     "output_type": "stream",
     "text": [
      "<class 'pandas.core.frame.DataFrame'>\n",
      "Int64Index: 11254 entries, 304 to 1748459\n",
      "Data columns (total 4 columns):\n",
      " #   Column     Non-Null Count  Dtype \n",
      "---  ------     --------------  ----- \n",
      " 0   EIN        11254 non-null  int64 \n",
      " 1   NAME       11254 non-null  object\n",
      " 2   NTEEFINAL  11254 non-null  object\n",
      " 3   NTEE1      11254 non-null  object\n",
      "dtypes: int64(1), object(3)\n",
      "memory usage: 439.6+ KB\n",
      "<class 'pandas.core.frame.DataFrame'>\n",
      "Int64Index: 37882 entries, 63 to 1748575\n",
      "Data columns (total 4 columns):\n",
      " #   Column     Non-Null Count  Dtype \n",
      "---  ------     --------------  ----- \n",
      " 0   EIN        37882 non-null  int64 \n",
      " 1   NAME       37882 non-null  object\n",
      " 2   NTEEFINAL  37882 non-null  object\n",
      " 3   NTEE1      37882 non-null  object\n",
      "dtypes: int64(1), object(3)\n",
      "memory usage: 1.4+ MB\n",
      "<class 'pandas.core.frame.DataFrame'>\n",
      "Int64Index: 34856 entries, 277 to 1748394\n",
      "Data columns (total 4 columns):\n",
      " #   Column     Non-Null Count  Dtype \n",
      "---  ------     --------------  ----- \n",
      " 0   EIN        34856 non-null  int64 \n",
      " 1   NAME       34856 non-null  object\n",
      " 2   NTEEFINAL  34856 non-null  object\n",
      " 3   NTEE1      34856 non-null  object\n",
      "dtypes: int64(1), object(3)\n",
      "memory usage: 1.3+ MB\n",
      "<class 'pandas.core.frame.DataFrame'>\n",
      "Int64Index: 128127 entries, 19 to 1748564\n",
      "Data columns (total 4 columns):\n",
      " #   Column     Non-Null Count   Dtype \n",
      "---  ------     --------------   ----- \n",
      " 0   EIN        128127 non-null  int64 \n",
      " 1   NAME       128127 non-null  object\n",
      " 2   NTEEFINAL  128127 non-null  object\n",
      " 3   NTEE1      128127 non-null  object\n",
      "dtypes: int64(1), object(3)\n",
      "memory usage: 4.9+ MB\n",
      "<class 'pandas.core.frame.DataFrame'>\n",
      "Int64Index: 10870 entries, 111 to 1748604\n",
      "Data columns (total 4 columns):\n",
      " #   Column     Non-Null Count  Dtype \n",
      "---  ------     --------------  ----- \n",
      " 0   EIN        10870 non-null  int64 \n",
      " 1   NAME       10870 non-null  object\n",
      " 2   NTEEFINAL  10870 non-null  object\n",
      " 3   NTEE1      10870 non-null  object\n",
      "dtypes: int64(1), object(3)\n",
      "memory usage: 424.6+ KB\n"
     ]
    }
   ],
   "source": [
    "#Creating sub-dfs for specific 'NTEE' codes\n",
    "civil_rights_df = non_profit_df[non_profit_df['NTEE1'] == 'R']\n",
    "\n",
    "environment_df = non_profit_df[non_profit_df['NTEE1'] == 'C']\n",
    "\n",
    "animal_df = non_profit_df[non_profit_df['NTEE1'] == 'D']\n",
    "\n",
    "community_df = non_profit_df[non_profit_df['NTEE1'] == 'S']\n",
    "\n",
    "science_df = non_profit_df[non_profit_df['NTEE1'] == 'U']\n"
   ]
  },
  {
   "cell_type": "code",
   "execution_count": 36,
   "metadata": {},
   "outputs": [
    {
     "name": "stdout",
     "output_type": "stream",
     "text": [
      "<class 'pandas.core.frame.DataFrame'>\n",
      "Int64Index: 11254 entries, 304 to 1748459\n",
      "Data columns (total 4 columns):\n",
      " #   Column     Non-Null Count  Dtype \n",
      "---  ------     --------------  ----- \n",
      " 0   EIN        11254 non-null  int64 \n",
      " 1   NAME       11254 non-null  object\n",
      " 2   NTEEFINAL  11254 non-null  object\n",
      " 3   NTEE1      11254 non-null  object\n",
      "dtypes: int64(1), object(3)\n",
      "memory usage: 439.6+ KB\n"
     ]
    }
   ],
   "source": [
    "#Show civil rights df summary\n",
    "civil_rights_df.info()"
   ]
  },
  {
   "cell_type": "code",
   "execution_count": 37,
   "metadata": {},
   "outputs": [
    {
     "name": "stdout",
     "output_type": "stream",
     "text": [
      "<class 'pandas.core.frame.DataFrame'>\n",
      "Int64Index: 37882 entries, 63 to 1748575\n",
      "Data columns (total 4 columns):\n",
      " #   Column     Non-Null Count  Dtype \n",
      "---  ------     --------------  ----- \n",
      " 0   EIN        37882 non-null  int64 \n",
      " 1   NAME       37882 non-null  object\n",
      " 2   NTEEFINAL  37882 non-null  object\n",
      " 3   NTEE1      37882 non-null  object\n",
      "dtypes: int64(1), object(3)\n",
      "memory usage: 1.4+ MB\n"
     ]
    }
   ],
   "source": [
    "#Show environment df summary\n",
    "environment_df.info()"
   ]
  },
  {
   "cell_type": "code",
   "execution_count": 38,
   "metadata": {},
   "outputs": [
    {
     "name": "stdout",
     "output_type": "stream",
     "text": [
      "<class 'pandas.core.frame.DataFrame'>\n",
      "Int64Index: 34856 entries, 277 to 1748394\n",
      "Data columns (total 4 columns):\n",
      " #   Column     Non-Null Count  Dtype \n",
      "---  ------     --------------  ----- \n",
      " 0   EIN        34856 non-null  int64 \n",
      " 1   NAME       34856 non-null  object\n",
      " 2   NTEEFINAL  34856 non-null  object\n",
      " 3   NTEE1      34856 non-null  object\n",
      "dtypes: int64(1), object(3)\n",
      "memory usage: 1.3+ MB\n"
     ]
    }
   ],
   "source": [
    "#Show animal df summary\n",
    "animal_df.info()"
   ]
  },
  {
   "cell_type": "code",
   "execution_count": 39,
   "metadata": {},
   "outputs": [
    {
     "name": "stdout",
     "output_type": "stream",
     "text": [
      "<class 'pandas.core.frame.DataFrame'>\n",
      "Int64Index: 128127 entries, 19 to 1748564\n",
      "Data columns (total 4 columns):\n",
      " #   Column     Non-Null Count   Dtype \n",
      "---  ------     --------------   ----- \n",
      " 0   EIN        128127 non-null  int64 \n",
      " 1   NAME       128127 non-null  object\n",
      " 2   NTEEFINAL  128127 non-null  object\n",
      " 3   NTEE1      128127 non-null  object\n",
      "dtypes: int64(1), object(3)\n",
      "memory usage: 4.9+ MB\n"
     ]
    }
   ],
   "source": [
    "#Show community df summary\n",
    "community_df.info()"
   ]
  },
  {
   "cell_type": "code",
   "execution_count": 40,
   "metadata": {},
   "outputs": [
    {
     "name": "stdout",
     "output_type": "stream",
     "text": [
      "<class 'pandas.core.frame.DataFrame'>\n",
      "Int64Index: 10870 entries, 111 to 1748604\n",
      "Data columns (total 4 columns):\n",
      " #   Column     Non-Null Count  Dtype \n",
      "---  ------     --------------  ----- \n",
      " 0   EIN        10870 non-null  int64 \n",
      " 1   NAME       10870 non-null  object\n",
      " 2   NTEEFINAL  10870 non-null  object\n",
      " 3   NTEE1      10870 non-null  object\n",
      "dtypes: int64(1), object(3)\n",
      "memory usage: 424.6+ KB\n"
     ]
    }
   ],
   "source": [
    "#Show science df summary\n",
    "science_df.info()"
   ]
  }
 ],
 "metadata": {
  "interpreter": {
   "hash": "4efb34fdd44591087287cb647f8e075132d6a6d57ecc05eaa3a80a5de4ea1f8b"
  },
  "kernelspec": {
   "display_name": "Python 3.9.9 64-bit (windows store)",
   "language": "python",
   "name": "python3"
  },
  "language_info": {
   "codemirror_mode": {
    "name": "ipython",
    "version": 3
   },
   "file_extension": ".py",
   "mimetype": "text/x-python",
   "name": "python",
   "nbconvert_exporter": "python",
   "pygments_lexer": "ipython3",
   "version": "3.8.5"
  },
  "orig_nbformat": 4
 },
 "nbformat": 4,
 "nbformat_minor": 2
}
