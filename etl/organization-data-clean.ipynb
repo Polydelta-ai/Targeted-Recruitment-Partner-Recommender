{
 "cells": [
  {
   "cell_type": "code",
   "execution_count": null,
   "metadata": {},
   "outputs": [],
   "source": [
    "#Import necessary libraries\n",
    "import pandas as pd"
   ]
  },
  {
   "cell_type": "code",
   "execution_count": null,
   "metadata": {},
   "outputs": [],
   "source": [
    "#Load data and drop duplicates\n",
    "df = pd.read_csv(\"../data/organization_data.csv\")\n",
    "\n",
    "df.drop_duplicates(inplace = True, subset=['org_name'])"
   ]
  },
  {
   "cell_type": "code",
   "execution_count": null,
   "metadata": {},
   "outputs": [],
   "source": [
    "#Show df summary\n",
    "df.info()"
   ]
  },
  {
   "cell_type": "code",
   "execution_count": null,
   "metadata": {},
   "outputs": [],
   "source": [
    "#Drop unnecessary columns and NaNs\n",
    "organization_df = df.drop(['staff_count', 'year_founded', 'budget'], axis=1)\n",
    "\n",
    "organization_df = df.dropna()\n",
    "\n",
    "organization_df.info()"
   ]
  },
  {
   "cell_type": "code",
   "execution_count": null,
   "metadata": {},
   "outputs": [],
   "source": [
    "#Reorder and rename columns\n",
    "organization_df = organization_df[['org_name', 'org_url', 'city', 'state', 'zip', 'bio', 'member_count', 'type']]\n",
    "\n",
    "organization_df = organization_df.rename(columns={\"org_name\": \"NAME\", \"org_url\": \"URL\", \"city\": \"CITY\", \"state\": \"STATE\", \"zip\": \"ZIP\", \"bio\": \"PURPOSE\",\n",
    "\"member_count\": \"SIZE\", \"type\": \"SCOPE\"})\n",
    "\n",
    "organization_df.head()"
   ]
  },
  {
   "cell_type": "code",
   "execution_count": null,
   "metadata": {},
   "outputs": [],
   "source": [
    "#Save df to CSV\n",
    "organization_df.to_csv('../data/clean_organization_data.csv', index=False)"
   ]
  }
 ],
 "metadata": {
  "interpreter": {
   "hash": "4efb34fdd44591087287cb647f8e075132d6a6d57ecc05eaa3a80a5de4ea1f8b"
  },
  "kernelspec": {
   "display_name": "Python 3",
   "language": "python",
   "name": "python3"
  },
  "language_info": {
   "codemirror_mode": {
    "name": "ipython",
    "version": 3
   },
   "file_extension": ".py",
   "mimetype": "text/x-python",
   "name": "python",
   "nbconvert_exporter": "python",
   "pygments_lexer": "ipython3",
   "version": "3.9.10"
  }
 },
 "nbformat": 4,
 "nbformat_minor": 2
}
