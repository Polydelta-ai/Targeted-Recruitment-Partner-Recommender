{
 "cells": [
  {
   "cell_type": "code",
   "execution_count": null,
   "metadata": {},
   "outputs": [],
   "source": [
    "#Import necessary libraries\n",
    "import pandas as pd\n",
    "import sklearn\n",
    "from sklearn.feature_extraction import text\n",
    "from sklearn.feature_extraction.text import TfidfVectorizer\n",
    "from sklearn.metrics.pairwise import linear_kernel"
   ]
  },
  {
   "cell_type": "code",
   "execution_count": null,
   "metadata": {},
   "outputs": [],
   "source": [
    "#Load data and rename column\n",
    "df = pd.read_csv(\"organization_features.csv\")\n",
    "\n",
    "df.rename(columns={'Unnamed: 0':'name'}, inplace=True )\n",
    "\n",
    "df.info()"
   ]
  },
  {
   "cell_type": "code",
   "execution_count": null,
   "metadata": {},
   "outputs": [],
   "source": [
    "#Create stop word list and run TFIDF on 'name', 'bio' and 'type' columns\n",
    "my_stop_words = text.ENGLISH_STOP_WORDS.union([\"Association\", \"Guild\", \"American\", \"Institute\", \"association\", \"guild\", \"american\", \"institute\",\n",
    "\"Board\", \"Council\", \"Chamber\", \"board\", \"council\", \"chamber\", \"Alliance\", \"Society\", \"alliance\", \"society\", \"Club\", \"club\", \"Center\", \"Bureau\", \"center\", \"bureau\"])\n",
    "\n",
    "tfidf = TfidfVectorizer(stop_words= my_stop_words)\n",
    "\n",
    "df = df.fillna('')\n",
    "\n",
    "tfidf_name_matrix = tfidf.fit_transform(df['name'])\n",
    "\n",
    "tfidf_bio_matrix = tfidf.fit_transform(df['bio'])\n",
    "\n",
    "tfidf_type_matrix = tfidf.fit_transform(df['type'])\n",
    "\n",
    "tfidf_bio_matrix.shape"
   ]
  },
  {
   "cell_type": "code",
   "execution_count": null,
   "metadata": {},
   "outputs": [],
   "source": [
    "#Apply linear kernal to matrixes\n",
    "name_cosine_sim = linear_kernel(tfidf_name_matrix, tfidf_name_matrix)\n",
    "\n",
    "bio_cosine_sim = linear_kernel(tfidf_bio_matrix, tfidf_bio_matrix)\n",
    "\n",
    "type_cosine_sim = linear_kernel(tfidf_type_matrix, tfidf_type_matrix)"
   ]
  },
  {
   "cell_type": "code",
   "execution_count": null,
   "metadata": {},
   "outputs": [],
   "source": [
    "#Construct a reverse map of indices and org names\n",
    "indices = pd.Series(df.index, index=df['name']).drop_duplicates()\n",
    "\n",
    "weights = [0.35, 0.6, 0.05]\n",
    "\n",
    "def get_recommendations(name, name_cosine_sim=weights[0]*name_cosine_sim, bio_cosine_sim= weights[1]*bio_cosine_sim, type_cosine_sim=weights[2]*type_cosine_sim):\n",
    "    # Get the index of the org that matches the name\n",
    "    idx = indices[name]\n",
    "\n",
    "    # Get the pairwsie similarity scores of all orgs\n",
    "    name_sim_scores = list(enumerate(name_cosine_sim[idx]))\n",
    "\n",
    "    bio_sim_scores = list(enumerate(bio_cosine_sim[idx]))\n",
    "\n",
    "    type_sim_scores = list(enumerate(type_cosine_sim[idx]))\n",
    "\n",
    "    sim_scores = (name_sim_scores) + (bio_sim_scores) + (type_sim_scores)\n",
    "\n",
    "    # Sort the orgs based on the similarity scores\n",
    "    sim_scores = sorted(sim_scores, key=lambda x: x[1], reverse=True)\n",
    "\n",
    "    # Get the scores of the 10 most similar orgs\n",
    "    sim_scores = sim_scores[1:11]\n",
    "\n",
    "    # Get the org indices\n",
    "    name_indices = [i[0] for i in sim_scores]\n",
    "\n",
    "    # Return the top 10 most similar org\n",
    "    return df['name'].iloc[name_indices]"
   ]
  },
  {
   "cell_type": "code",
   "execution_count": null,
   "metadata": {},
   "outputs": [],
   "source": [
    "#Test\n",
    "get_recommendations('American Institute of Commemorative Art')"
   ]
  }
 ],
 "metadata": {
  "interpreter": {
   "hash": "4efb34fdd44591087287cb647f8e075132d6a6d57ecc05eaa3a80a5de4ea1f8b"
  },
  "kernelspec": {
   "display_name": "Python 3.9.9 64-bit (windows store)",
   "language": "python",
   "name": "python3"
  },
  "language_info": {
   "codemirror_mode": {
    "name": "ipython",
    "version": 3
   },
   "file_extension": ".py",
   "mimetype": "text/x-python",
   "name": "python",
   "nbconvert_exporter": "python",
   "pygments_lexer": "ipython3",
   "version": "3.9.10"
  },
  "orig_nbformat": 4
 },
 "nbformat": 4,
 "nbformat_minor": 2
}
